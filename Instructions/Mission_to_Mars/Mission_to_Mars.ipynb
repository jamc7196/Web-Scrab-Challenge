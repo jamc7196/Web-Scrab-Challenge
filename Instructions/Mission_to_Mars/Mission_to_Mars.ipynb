{
 "cells": [
  {
   "cell_type": "markdown",
   "metadata": {},
   "source": [
    "Student: Jorge Alberto Muñozcano Castro. Challenge 12 Web Scrapping Challenge: Part 1"
   ]
  },
  {
   "cell_type": "code",
   "execution_count": 1,
   "metadata": {},
   "outputs": [],
   "source": [
    "#!pip install nbconvert"
   ]
  },
  {
   "cell_type": "code",
   "execution_count": 2,
   "metadata": {},
   "outputs": [],
   "source": [
    "from bs4 import BeautifulSoup as bs\n",
    "from splinter import Browser\n",
    "from selenium import webdriver\n",
    "import pymongo\n",
    "import pandas as pd\n",
    "import requests as req\n",
    "import time"
   ]
  },
  {
   "cell_type": "code",
   "execution_count": 3,
   "metadata": {},
   "outputs": [],
   "source": [
    "#Established pymongo local host\n",
    "conn = 'mongodb://localhost:27017'\n",
    "client = pymongo.MongoClient(conn)"
   ]
  },
  {
   "cell_type": "markdown",
   "metadata": {},
   "source": [
    "1)NASA MARS NEWS "
   ]
  },
  {
   "cell_type": "markdown",
   "metadata": {},
   "source": [
    "A)Scrape the NASA Mars News Site "
   ]
  },
  {
   "cell_type": "code",
   "execution_count": 4,
   "metadata": {},
   "outputs": [],
   "source": [
    "#Create executable browser using chromedriver, *note do not forge to add chromedriver.exe onto your repository\n",
    "executable_path = {'executable_path': 'chromedriver.exe'}\n",
    "browser = Browser('chrome', **executable_path, headless=False)"
   ]
  },
  {
   "cell_type": "code",
   "execution_count": 5,
   "metadata": {},
   "outputs": [],
   "source": [
    "# Establish link with url: NASA Mars News -- Latest News\n",
    "nasa_url = \"https://mars.nasa.gov/news/\"\n",
    "browser.visit(nasa_url) #test succesfull link generated\n"
   ]
  },
  {
   "cell_type": "code",
   "execution_count": 6,
   "metadata": {},
   "outputs": [],
   "source": [
    "# Link the browser to a html and Parse the article with Beautiful Soup\n",
    "html = browser.html \n",
    "nasasoup = bs(html, \"html.parser\") #test succesfull html was parse"
   ]
  },
  {
   "cell_type": "markdown",
   "metadata": {},
   "source": [
    "B)Collect the latest News Title and Paragraph Text. Assign the text to variables that you can reference later."
   ]
  },
  {
   "cell_type": "code",
   "execution_count": 7,
   "metadata": {},
   "outputs": [
    {
     "name": "stdout",
     "output_type": "stream",
     "text": [
      "The main title was: NASA Wins 4 Webbys, 4 People's Voice Awards\n",
      "the main info was: Winners include the JPL-managed \"Send Your Name to Mars\" campaign, NASA's Global Climate Change website and Solar System Interactive.\n"
     ]
    }
   ],
   "source": [
    "# Extract the first article title with its paragraph text\n",
    "article = nasasoup.find(\"div\", class_='list_text')\n",
    "maintitle = article.find(\"div\", class_=\"content_title\").text\n",
    "print(f\"The main title was: {maintitle}\") # test succesfull Title extracted\n",
    "newspara= article.find(\"div\", class_ =\"article_teaser_body\").text\n",
    "print(f\"the main info was: {newspara}\") # test succesfull paragraph extracted"
   ]
  },
  {
   "cell_type": "markdown",
   "metadata": {},
   "source": [
    "2)JPL Mars Space Images"
   ]
  },
  {
   "cell_type": "markdown",
   "metadata": {},
   "source": [
    "A) Visit the url for JPL Featured Space Image, then use splinter to navigate the site and find the image url for the current Featured Mars Image and assign the url string to a variable called featured_image_url."
   ]
  },
  {
   "cell_type": "code",
   "execution_count": 8,
   "metadata": {},
   "outputs": [],
   "source": [
    "# Establish link with url: Latest NewsJPL Featured Space Image\n",
    "nasaimage = \"https://www.jpl.nasa.gov/spaceimages/?search=&category=Mars\"\n",
    "browser.visit(nasaimage) #test succesfull, link established"
   ]
  },
  {
   "cell_type": "markdown",
   "metadata": {},
   "source": [
    "B)Use splinter to navigate the site and find the image url for the current Featured Mars Image and assign the url string to a variable called featured_image_url.\n",
    "*Note:Make sure to find the image url to the full size .jpg image, and make sure to save a complete url string for this image."
   ]
  },
  {
   "cell_type": "code",
   "execution_count": 9,
   "metadata": {},
   "outputs": [
    {
     "name": "stderr",
     "output_type": "stream",
     "text": [
      "C:\\Users\\Jorge MC\\anaconda3\\lib\\site-packages\\splinter\\driver\\webdriver\\__init__.py:528: FutureWarning: browser.find_link_by_partial_text is deprecated. Use browser.links.find_by_partial_text instead.\n",
      "  FutureWarning,\n"
     ]
    }
   ],
   "source": [
    "# Create a command to go to the FULL IMAGE , and add a time sleep function of 5 seconds \n",
    "browser.click_link_by_partial_text('FULL IMAGE')\n",
    "time.sleep(5)"
   ]
  },
  {
   "cell_type": "code",
   "execution_count": 10,
   "metadata": {},
   "outputs": [],
   "source": [
    "# Then create a command to go to more info, *warning: is not going to work if you dont run the previouse command'\n",
    "browser.click_link_by_partial_text('more info')"
   ]
  },
  {
   "cell_type": "code",
   "execution_count": 11,
   "metadata": {},
   "outputs": [],
   "source": [
    "# Link the browser to a html and Parse with Beautiful Soup\n",
    "html = browser.html\n",
    "jplsoup = bs(html, 'html.parser') #test succesfull html was parse"
   ]
  },
  {
   "cell_type": "code",
   "execution_count": 12,
   "metadata": {},
   "outputs": [
    {
     "name": "stdout",
     "output_type": "stream",
     "text": [
      "URL To The JPL Scrap Image:\n",
      "https://www.jpl.nasa.gov/spaceimages/images/largesize/PIA17564_hires.jpg\n"
     ]
    }
   ],
   "source": [
    "# Using the beautifulsoup function find, scrap the image a generate a url link name featured image\n",
    "jpl_img_url = jplsoup.find('figure', class_='lede').a['href']\n",
    "featured_image_url = f'https://www.jpl.nasa.gov{jpl_img_url}'\n",
    "print(f\"URL To The JPL Scrap Image:\")\n",
    "print(featured_image_url) # test succesfull link created and in full size"
   ]
  },
  {
   "cell_type": "markdown",
   "metadata": {},
   "source": [
    "3) Mars Weather"
   ]
  },
  {
   "cell_type": "markdown",
   "metadata": {},
   "source": [
    "A)Visit the Mars Weather twitter account and scrape the latest Mars weather tweet from the page"
   ]
  },
  {
   "cell_type": "code",
   "execution_count": 13,
   "metadata": {},
   "outputs": [],
   "source": [
    "# Establish link with url: Mars weather Twitter Account\n",
    "marstwitter = 'https://twitter.com/marswxreport?lang=en'\n",
    "browser.visit(marstwitter) #test succesfull link established to the twitter account"
   ]
  },
  {
   "cell_type": "code",
   "execution_count": 14,
   "metadata": {},
   "outputs": [
    {
     "name": "stdout",
     "output_type": "stream",
     "text": [
      "<!DOCTYPE html>\n",
      "<html dir=\"ltr\" lang=\"en\" xmlns=\"http://www.w3.org/1999/xhtml\">\n",
      " <head>\n",
      "  <meta charset=\"utf-8\"/>\n",
      "  <meta content=\"width=device-width,initial-scale=1,maximum-scale=1,user-scalable=0,viewport-fit=cover\" name=\"viewport\"/>\n",
      "  <link href=\"//abs.twimg.com\" rel=\"preconnect\"/>\n",
      "  <link href=\"//api.twitter.com\" rel=\"preconnect\"/>\n",
      "  <link href=\"//pbs.twimg.com\" rel=\"preconnect\"/>\n",
      "  <link href=\"//t.co\" rel=\"preconnect\"/>\n",
      "  <link href=\"//video.twimg.com\" rel=\"preconnect\"/>\n",
      "  <link href=\"//abs.twimg.com\" rel=\"dns-prefetch\"/>\n",
      "  <link href=\"//api.twitter.com\" rel=\"dns-prefetch\"/>\n",
      "  <link href=\"//pbs.twimg.com\" rel=\"dns-prefetch\"/>\n",
      "  <link href=\"//t.co\" rel=\"dns-prefetch\"/>\n",
      "  <link href=\"//video.twimg.com\" rel=\"dns-prefetch\"/>\n",
      "  <link as=\"script\" crossorigin=\"anonymous\" href=\"https://abs.twimg.com/responsive-web/web/polyfills.13131df4.js\" nonce=\"\" rel=\"preload\"/>\n",
      "  <link as=\"script\" crossorigin=\"anonymous\" href=\"https://abs.twimg.com/responsive-web/web/vendors~main.e97523d4.js\" nonce=\"\" rel=\"preload\"/>\n",
      "  <link as=\"script\" crossorigin=\"anonymous\" href=\"https://abs.twimg.com/responsive-web/web/i18n-rweb/en.f62cad84.js\" nonce=\"\" rel=\"preload\"/>\n",
      "  <link as=\"script\" crossorigin=\"anonymous\" href=\"https://abs.twimg.com/responsive-web/web/i18n-horizon/en.983ccd04.js\" nonce=\"\" rel=\"preload\"/>\n",
      "  <link as=\"script\" crossorigin=\"anonymous\" href=\"https://abs.twimg.com/responsive-web/web/main.22f2dd14.js\" nonce=\"\" rel=\"preload\"/>\n",
      "  <meta content=\"2231777543\" property=\"fb:app_id\"/>\n",
      "  <meta content=\"Twitter\" property=\"og:site_name\"/>\n",
      "  <meta content=\"V0yIS0Ec_o3Ii9KThrCoMCkwTYMMJ_JYx_RSaGhFYvw\" name=\"google-site-verification\"/>\n",
      "  <link crossorigin=\"use-credentials\" href=\"/manifest.json\" rel=\"manifest\"/>\n",
      "  <link href=\"https://twitter.com/marswxreport?lang=en\" hreflang=\"x-default\" rel=\"alternate\"/>\n",
      "  <link href=\"https://twitter.com/marswxreport?lang=ar\" hreflang=\"ar\" rel=\"alternate\"/>\n",
      "  <link href=\"https://twitter.com/marswxreport?lang=bg\" hreflang=\"bg\" rel=\"alternate\"/>\n",
      "  <link href=\"https://twitter.com/marswxreport?lang=bn\" hreflang=\"bn\" rel=\"alternate\"/>\n",
      "  <link href=\"https://twitter.com/marswxreport?lang=ca\" hreflang=\"ca\" rel=\"alternate\"/>\n",
      "  <link href=\"https://twitter.com/marswxreport?lang=cs\" hreflang=\"cs\" rel=\"alternate\"/>\n",
      "  <link href=\"https://twitter.com/marswxreport?lang=da\" hreflang=\"da\" rel=\"alternate\"/>\n",
      "  <link href=\"https://twitter.com/marswxreport?lang=de\" hreflang=\"de\" rel=\"alternate\"/>\n",
      "  <link href=\"https://twitter.com/marswxreport?lang=el\" hreflang=\"el\" rel=\"alternate\"/>\n",
      "  <link href=\"https://twitter.com/marswxreport?lang=en\" hreflang=\"en\" rel=\"alternate\"/>\n",
      "  <link href=\"https://twitter.com/marswxreport?lang=en-GB\" hreflang=\"en-GB\" rel=\"alternate\"/>\n",
      "  <link href=\"https://twitter.com/marswxreport?lang=es\" hreflang=\"es\" rel=\"alternate\"/>\n",
      "  <link href=\"https://twitter.com/marswxreport?lang=eu\" hreflang=\"eu\" rel=\"alternate\"/>\n",
      "  <link href=\"https://twitter.com/marswxreport?lang=fa\" hreflang=\"fa\" rel=\"alternate\"/>\n",
      "  <link href=\"https://twitter.com/marswxreport?lang=fi\" hreflang=\"fi\" rel=\"alternate\"/>\n",
      "  <link href=\"https://twitter.com/marswxreport?lang=tl\" hreflang=\"tl\" rel=\"alternate\"/>\n",
      "  <link href=\"https://twitter.com/marswxreport?lang=fr\" hreflang=\"fr\" rel=\"alternate\"/>\n",
      "  <link href=\"https://twitter.com/marswxreport?lang=ga\" hreflang=\"ga\" rel=\"alternate\"/>\n",
      "  <link href=\"https://twitter.com/marswxreport?lang=gl\" hreflang=\"gl\" rel=\"alternate\"/>\n",
      "  <link href=\"https://twitter.com/marswxreport?lang=gu\" hreflang=\"gu\" rel=\"alternate\"/>\n",
      "  <link href=\"https://twitter.com/marswxreport?lang=he\" hreflang=\"he\" rel=\"alternate\"/>\n",
      "  <link href=\"https://twitter.com/marswxreport?lang=hi\" hreflang=\"hi\" rel=\"alternate\"/>\n",
      "  <link href=\"https://twitter.com/marswxreport?lang=hr\" hreflang=\"hr\" rel=\"alternate\"/>\n",
      "  <link href=\"https://twitter.com/marswxreport?lang=hu\" hreflang=\"hu\" rel=\"alternate\"/>\n",
      "  <link href=\"https://twitter.com/marswxreport?lang=id\" hreflang=\"id\" rel=\"alternate\"/>\n",
      "  <link href=\"https://twitter.com/marswxreport?lang=it\" hreflang=\"it\" rel=\"alternate\"/>\n",
      "  <link href=\"https://twitter.com/marswxreport?lang=ja\" hreflang=\"ja\" rel=\"alternate\"/>\n",
      "  <link href=\"https://twitter.com/marswxreport?lang=kn\" hreflang=\"kn\" rel=\"alternate\"/>\n",
      "  <link href=\"https://twitter.com/marswxreport?lang=ko\" hreflang=\"ko\" rel=\"alternate\"/>\n",
      "  <link href=\"https://twitter.com/marswxreport?lang=mr\" hreflang=\"mr\" rel=\"alternate\"/>\n",
      "  <link href=\"https://twitter.com/marswxreport?lang=ms\" hreflang=\"ms\" rel=\"alternate\"/>\n",
      "  <link href=\"https://twitter.com/marswxreport?lang=nb\" hreflang=\"nb\" rel=\"alternate\"/>\n",
      "  <link href=\"https://twitter.com/marswxreport?lang=nl\" hreflang=\"nl\" rel=\"alternate\"/>\n",
      "  <link href=\"https://twitter.com/marswxreport?lang=pl\" hreflang=\"pl\" rel=\"alternate\"/>\n",
      "  <link href=\"https://twitter.com/marswxreport?lang=pt\" hreflang=\"pt\" rel=\"alternate\"/>\n",
      "  <link href=\"https://twitter.com/marswxreport?lang=ro\" hreflang=\"ro\" rel=\"alternate\"/>\n",
      "  <link href=\"https://twitter.com/marswxreport?lang=ru\" hreflang=\"ru\" rel=\"alternate\"/>\n",
      "  <link href=\"https://twitter.com/marswxreport?lang=sk\" hreflang=\"sk\" rel=\"alternate\"/>\n",
      "  <link href=\"https://twitter.com/marswxreport?lang=sr\" hreflang=\"sr\" rel=\"alternate\"/>\n",
      "  <link href=\"https://twitter.com/marswxreport?lang=sv\" hreflang=\"sv\" rel=\"alternate\"/>\n",
      "  <link href=\"https://twitter.com/marswxreport?lang=ta\" hreflang=\"ta\" rel=\"alternate\"/>\n",
      "  <link href=\"https://twitter.com/marswxreport?lang=th\" hreflang=\"th\" rel=\"alternate\"/>\n",
      "  <link href=\"https://twitter.com/marswxreport?lang=tr\" hreflang=\"tr\" rel=\"alternate\"/>\n",
      "  <link href=\"https://twitter.com/marswxreport?lang=uk\" hreflang=\"uk\" rel=\"alternate\"/>\n",
      "  <link href=\"https://twitter.com/marswxreport?lang=ur\" hreflang=\"ur\" rel=\"alternate\"/>\n",
      "  <link href=\"https://twitter.com/marswxreport?lang=vi\" hreflang=\"vi\" rel=\"alternate\"/>\n",
      "  <link href=\"https://twitter.com/marswxreport?lang=zh\" hreflang=\"zh\" rel=\"alternate\"/>\n",
      "  <link href=\"https://twitter.com/marswxreport?lang=zh-Hant\" hreflang=\"zh-Hant\" rel=\"alternate\"/>\n",
      "  <link data-rdm=\"\" href=\"https://twitter.com/marswxreport\" rel=\"canonical\"/>\n",
      "  <link color=\"#1da1f2\" href=\"https://abs.twimg.com/responsive-web/web/icon-svg.9e211f64.svg\" rel=\"mask-icon\" sizes=\"any\"/>\n",
      "  <link href=\"//abs.twimg.com/favicons/twitter.ico\" rel=\"shortcut icon\" type=\"image/x-icon\"/>\n",
      "  <link href=\"https://abs.twimg.com/responsive-web/web/icon-ios.8ea219d4.png\" rel=\"apple-touch-icon\" sizes=\"192x192\"/>\n",
      "  <meta content=\"yes\" name=\"mobile-web-app-capable\"/>\n",
      "  <meta content=\"Twitter\" name=\"apple-mobile-web-app-title\"/>\n",
      "  <meta content=\"white\" name=\"apple-mobile-web-app-status-bar-style\"/>\n",
      "  <meta content=\"#ffffff\" name=\"theme-color\"/>\n",
      "  <meta content=\"Ap6SMBNB0lQoXpXl4I9vyTJqJ7Y0X9tPd6Q6rN697iHdubQQxBcWHy21N3N7uEz7Ba5UKMbN+eLvDczBSbi27AsAAABfeyJvcmlnaW4iOiJodHRwczovL3R3aXR0ZXIuY29tOjQ0MyIsImZlYXR1cmUiOiJCYWRnaW5nIiwiZXhwaXJ5IjoxNTY0NTgyNzY2LCJpc1N1YmRvbWFpbiI6dHJ1ZX0=\" http-equiv=\"origin-trial\"/>\n",
      "  <meta content=\"Apir4chqTX+4eFxKD+ErQlKRB/VtZ/dvnLfd9Y9Nenl5r1xJcf81alryTHYQiuUlz9Q49MqGXqyaiSmqWzHUqQwAAABneyJvcmlnaW4iOiJodHRwczovL3R3aXR0ZXIuY29tOjQ0MyIsImZlYXR1cmUiOiJDb250YWN0c01hbmFnZXIiLCJleHBpcnkiOjE1NzUwMzUyODMsImlzU3ViZG9tYWluIjp0cnVlfQ==\" http-equiv=\"origin-trial\"/>\n",
      "  <meta content=\"AleGS26SZL7UA8Fe1DbvXzoay74bPTvrfKKGimIu1RI8vA+RtXOSVlizUkz2zU/fQoFoOTgCiCciP6pM5teaeQgAAABjeyJvcmlnaW4iOiJodHRwczovL3R3aXR0ZXIuY29tOjQ0MyIsImZlYXR1cmUiOiJTbXNSZWNlaXZlciIsImV4cGlyeSI6MTU3OTAyMDkyMSwiaXNTdWJkb21haW4iOnRydWV9\" http-equiv=\"origin-trial\"/>\n",
      "  <style>\n",
      "   html,body{height: 100%;}body{-ms-overflow-style:scrollbar;overflow-y:scroll;overscroll-behavior-y:none;}\n",
      "  </style>\n",
      "  <style id=\"react-native-stylesheet\">\n",
      "   [stylesheet-group=\"0\"]{}\n",
      "html{-ms-text-size-adjust:100%;-webkit-text-size-adjust:100%;-webkit-tap-highlight-color:rgba(0,0,0,0);}\n",
      "body{margin:0;}\n",
      "button::-moz-focus-inner,input::-moz-focus-inner{border:0;padding:0;}\n",
      "input::-webkit-inner-spin-button,input::-webkit-outer-spin-button,input::-webkit-search-cancel-button,input::-webkit-search-decoration,input::-webkit-search-results-button,input::-webkit-search-results-decoration{display:none;}\n",
      "[stylesheet-group=\"0.1\"]{}\n",
      ":focus:not([data-focusvisible-polyfill]){outline: none;}\n",
      "[stylesheet-group=\"1\"]{}\n",
      ".css-1dbjc4n{-ms-flex-align:stretch;-ms-flex-direction:column;-ms-flex-negative:0;-ms-flex-preferred-size:auto;-webkit-align-items:stretch;-webkit-box-align:stretch;-webkit-box-direction:normal;-webkit-box-orient:vertical;-webkit-flex-basis:auto;-webkit-flex-direction:column;-webkit-flex-shrink:0;align-items:stretch;border:0 solid black;box-sizing:border-box;display:-webkit-box;display:-moz-box;display:-ms-flexbox;display:-webkit-flex;display:flex;flex-basis:auto;flex-direction:column;flex-shrink:0;margin-bottom:0px;margin-left:0px;margin-right:0px;margin-top:0px;min-height:0px;min-width:0px;padding-bottom:0px;padding-left:0px;padding-right:0px;padding-top:0px;position:relative;z-index:0;}\n",
      ".css-901oao{border:0 solid black;box-sizing:border-box;color:rgba(0,0,0,1.00);display:inline;font:14px system-ui,-apple-system,BlinkMacSystemFont,\"Segoe UI\",Roboto,Ubuntu,\"Helvetica Neue\",sans-serif;margin-bottom:0px;margin-left:0px;margin-right:0px;margin-top:0px;padding-bottom:0px;padding-left:0px;padding-right:0px;padding-top:0px;white-space:pre-wrap;word-wrap:break-word;}\n",
      ".css-16my406{color:inherit;font:inherit;white-space:inherit;}\n",
      "[stylesheet-group=\"2\"]{}\n",
      ".r-13awgt0{-ms-flex-negative:1;-ms-flex-positive:1;-ms-flex-preferred-size:0%;-webkit-box-flex:1;-webkit-flex-basis:0%;-webkit-flex-grow:1;-webkit-flex-shrink:1;flex-basis:0%;flex-grow:1;flex-shrink:1;}\n",
      ".r-4qtqp9{display:inline-block;}\n",
      ".r-ywje51{margin-bottom:auto;margin-left:auto;margin-right:auto;margin-top:auto;}\n",
      ".r-hvic4v{display:none;}\n",
      ".r-1adg3ll{display:block;}\n",
      "[stylesheet-group=\"2.2\"]{}\n",
      ".r-12vffkv&gt;*{pointer-events:auto;}\n",
      ".r-12vffkv{pointer-events:none!important;}\n",
      ".r-14lw9ot{background-color:rgba(255,255,255,1.00);}\n",
      ".r-1p0dtai{bottom:0px;}\n",
      ".r-1d2f490{left:0px;}\n",
      ".r-1xcajam{position:fixed;}\n",
      ".r-zchlnj{right:0px;}\n",
      ".r-ipm5af{top:0px;}\n",
      ".r-yyyyoo{fill:currentcolor;}\n",
      ".r-1xvli5t{height:1.25em;}\n",
      ".r-dnmrzs{max-width:100%;}\n",
      ".r-bnwqim{position:relative;}\n",
      ".r-1plcrui{vertical-align:text-bottom;}\n",
      ".r-lrvibr{-moz-user-select:none;-ms-user-select:none;-webkit-user-select:none;user-select:none;}\n",
      ".r-13gxpu9{color:rgba(29,161,242,1.00);}\n",
      ".r-wy61xf{height:72px;}\n",
      ".r-u8s1d{position:absolute;}\n",
      ".r-1blnp2b{width:72px;}\n",
      ".r-1ykxob0{top:60%;}\n",
      ".r-1b2b6em{line-height:2em;}\n",
      ".r-q4m81j{text-align:center;}\n",
      "  </style>\n",
      "  <script charset=\"utf-8\" src=\"https://abs.twimg.com/responsive-web/web/shared~bundle.HomeTimeline.2d63e424.js\">\n",
      "  </script>\n",
      "  <script charset=\"utf-8\" src=\"https://abs.twimg.com/responsive-web/web/ondemand.Dropdown.81f84634.js\">\n",
      "  </script>\n",
      " </head>\n",
      " <body>\n",
      "  <noscript>\n",
      "   &lt;form action=\"https://mobile.twitter.com/i/nojs_router?path=%2Fmarswxreport%3Flang%3Den\" method=\"POST\" style=\"background-color: #fff; position: fixed; top: 0; left: 0; right: 0; bottom: 0; z-index: 9999;\"&gt;\n",
      "      &lt;div style=\"font-size: 18px; font-family: Helvetica,sans-serif; line-height: 24px; margin: 10%; width: 80%;\"&gt;\n",
      "        &lt;p&gt;We've detected that JavaScript is disabled in your browser. Would you like to proceed to legacy Twitter?&lt;/p&gt;\n",
      "        &lt;p style=\"margin: 20px 0;\"&gt;\n",
      "          &lt;button type=\"submit\" style=\"background-color: #1da1f2; border-radius: 100px; border: none; box-shadow: none; color: #fff; cursor: pointer; font-size: 14px; font-weight: bold; line-height: 20px; padding: 6px 16px;\"&gt;Yes&lt;/button&gt;\n",
      "        &lt;/p&gt;\n",
      "      &lt;/div&gt;\n",
      "    &lt;/form&gt;\n",
      "  </noscript>\n",
      "  <div id=\"react-root\" style=\"height:100%;display:flex;\">\n",
      "   <div class=\"css-1dbjc4n r-13awgt0 r-12vffkv\" data-reactroot=\"\">\n",
      "    <div class=\"css-1dbjc4n r-13awgt0 r-12vffkv\">\n",
      "     <div aria-label=\"Loading…\" class=\"css-1dbjc4n r-14lw9ot r-1p0dtai r-1d2f490 r-1xcajam r-zchlnj r-ipm5af\">\n",
      "      <svg class=\"r-1p0dtai r-13gxpu9 r-4qtqp9 r-yyyyoo r-wy61xf r-1d2f490 r-ywje51 r-dnmrzs r-u8s1d r-zchlnj r-1plcrui r-ipm5af r-lrvibr r-1blnp2b\" viewbox=\"0 0 24 24\" xmlns=\"http://www.w3.org/2000/svg\">\n",
      "       <g>\n",
      "        <path d=\"M23.643 4.937c-.835.37-1.732.62-2.675.733.962-.576 1.7-1.49 2.048-2.578-.9.534-1.897.922-2.958 1.13-.85-.904-2.06-1.47-3.4-1.47-2.572 0-4.658 2.086-4.658 4.66 0 .364.042.718.12 1.06-3.873-.195-7.304-2.05-9.602-4.868-.4.69-.63 1.49-.63 2.342 0 1.616.823 3.043 2.072 3.878-.764-.025-1.482-.234-2.11-.583v.06c0 2.257 1.605 4.14 3.737 4.568-.392.106-.803.162-1.227.162-.3 0-.593-.028-.877-.082.593 1.85 2.313 3.198 4.352 3.234-1.595 1.25-3.604 1.995-5.786 1.995-.376 0-.747-.022-1.112-.065 2.062 1.323 4.51 2.093 7.14 2.093 8.57 0 13.255-7.098 13.255-13.254 0-.2-.005-.402-.014-.602.91-.658 1.7-1.477 2.323-2.41z\">\n",
      "        </path>\n",
      "       </g>\n",
      "      </svg>\n",
      "     </div>\n",
      "     <div class=\"css-1dbjc4n r-hvic4v r-1d2f490 r-1xcajam r-zchlnj r-1ykxob0\" id=\"ScriptLoadFailure\">\n",
      "      <form action=\"\" method=\"GET\">\n",
      "       <div class=\"css-901oao r-1adg3ll r-1b2b6em r-q4m81j\" dir=\"auto\">\n",
      "        <span class=\"css-901oao css-16my406\" dir=\"auto\">\n",
      "         Something went wrong, but don’t fret — let’s give it another shot.\n",
      "        </span>\n",
      "        <br/>\n",
      "        <input type=\"submit\" value=\"Try again\"/>\n",
      "       </div>\n",
      "      </form>\n",
      "     </div>\n",
      "    </div>\n",
      "   </div>\n",
      "  </div>\n",
      "  <script nonce=\"\">\n",
      "   window.__INITIAL_STATE__ = {\"optimist\":[],\"featureSwitch\":{\"config\":{\"account_country_setting_countries_whitelist\":{\"value\":[\"ad\",\"ae\",\"af\",\"ag\",\"ai\",\"al\",\"am\",\"ao\",\"ar\",\"as\",\"at\",\"au\",\"aw\",\"ax\",\"az\",\"ba\",\"bb\",\"bd\",\"be\",\"bf\",\"bg\",\"bh\",\"bi\",\"bj\",\"bl\",\"bm\",\"bn\",\"bo\",\"bq\",\"br\",\"bs\",\"bt\",\"bv\",\"bw\",\"by\",\"bz\",\"ca\",\"cc\",\"cd\",\"cf\",\"cg\",\"ch\",\"ci\",\"ck\",\"cl\",\"cm\",\"co\",\"cr\",\"cu\",\"cv\",\"cw\",\"cx\",\"cy\",\"cz\",\"de\",\"dj\",\"dk\",\"dm\",\"do\",\"dz\",\"ec\",\"ee\",\"eg\",\"er\",\"es\",\"et\",\"fi\",\"fj\",\"fk\",\"fm\",\"fo\",\"fr\",\"ga\",\"gb\",\"gd\",\"ge\",\"gf\",\"gg\",\"gh\",\"gi\",\"gl\",\"gm\",\"gn\",\"gp\",\"gq\",\"gr\",\"gs\",\"gt\",\"gu\",\"gw\",\"gy\",\"hk\",\"hn\",\"hr\",\"ht\",\"hu\",\"id\",\"ie\",\"il\",\"im\",\"in\",\"io\",\"iq\",\"ir\",\"is\",\"it\",\"je\",\"jm\",\"jo\",\"jp\",\"ke\",\"kg\",\"kh\",\"ki\",\"km\",\"kn\",\"kr\",\"kw\",\"ky\",\"kz\",\"la\",\"lb\",\"lc\",\"li\",\"lk\",\"lr\",\"ls\",\"lt\",\"lu\",\"lv\",\"ly\",\"ma\",\"mc\",\"md\",\"me\",\"mf\",\"mg\",\"mh\",\"mk\",\"ml\",\"mn\",\"mo\",\"mp\",\"mq\",\"mr\",\"ms\",\"mt\",\"mu\",\"mv\",\"mw\",\"mx\",\"my\",\"mz\",\"na\",\"nc\",\"ne\",\"nf\",\"ng\",\"ni\",\"nl\",\"no\",\"np\",\"nr\",\"nu\",\"nz\",\"om\",\"pa\",\"pe\",\"pf\",\"pg\",\"ph\",\"pk\",\"pl\",\"pm\",\"pn\",\"pr\",\"ps\",\"pt\",\"pw\",\"py\",\"qa\",\"re\",\"ro\",\"rs\",\"ru\",\"rw\",\"sa\",\"sb\",\"sc\",\"se\",\"sg\",\"sh\",\"si\",\"sk\",\"sl\",\"sm\",\"sn\",\"so\",\"sr\",\"st\",\"sv\",\"sx\",\"sz\",\"tc\",\"td\",\"tf\",\"tg\",\"th\",\"tj\",\"tk\",\"tl\",\"tm\",\"tn\",\"to\",\"tr\",\"tt\",\"tv\",\"tw\",\"tz\",\"ua\",\"ug\",\"us\",\"uy\",\"uz\",\"va\",\"vc\",\"ve\",\"vi\",\"vn\",\"vu\",\"wf\",\"ws\",\"xk\",\"ye\",\"yt\",\"za\",\"zm\",\"zw\"]},\"author_moderated_replies_urt_container_enabled\":{\"value\":false},\"content_language_setting_enabled\":{\"value\":true},\"conversation_controls_limited_replies_creation_enabled\":{\"value\":false},\"conversation_controls_limited_replies_consumption_configuration\":{\"value\":\"no_reply\"},\"dm_reactions_config_active_reactions\":{\"value\":[\"😂:funny\",\"😲:surprised\",\"😢:sad\",\"❤:like\",\"🔥:excited\",\"👍:agree\",\"👎:disagree\"]},\"dm_reactions_config_inactive_reactions\":{\"value\":[\"😠:angry\"]},\"guest_broadcasting_timeline_decorations_enabled\":{\"value\":true},\"home_timeline_latest_timeline_autoswitch_half_life_minutes\":{\"value\":43200},\"home_timeline_latest_timeline_autoswitch_threshold_multiplier\":{\"value\":2},\"home_timeline_latest_timeline_max_time_to_autoswitch_minutes\":{\"value\":5256000},\"home_timeline_latest_timeline_min_time_to_autoswitch_minutes\":{\"value\":5256000},\"home_timeline_latest_timeline_switch_enabled\":{\"value\":true},\"home_timeline_latest_timeline_threshold_to_increase_autoswitch_seconds\":{\"value\":60},\"home_timeline_spheres_copy_variant\":{\"value\":\"list_subscribe\"},\"home_timeline_spheres_custom_banner_image_reads_enabled\":{\"value\":false},\"home_timeline_spheres_detail_page_muting_enabled\":{\"value\":false},\"home_timeline_spheres_creation_and_edit_flows_enabled\":{\"value\":false},\"home_timeline_spheres_discovery_page_enabled\":{\"value\":false},\"home_timeline_spheres_list_cell_thumbnail_enabled\":{\"value\":false},\"home_timeline_spheres_max_user_owned_or_subscribed_lists_count\":{\"value\":5},\"home_timeline_spheres_management_page_enabled\":{\"value\":true},\"home_timeline_spheres_ranking_mode_control_enabled\":{\"value\":true},\"live_event_multi_video_auto_advance_dock_enabled\":{\"value\":true},\"live_event_multi_video_auto_advance_enabled\":{\"value\":true},\"live_event_multi_video_auto_advance_fullscreen_enabled\":{\"value\":false},\"live_event_multi_video_auto_advance_transition_duration_seconds\":{\"value\":5},\"live_event_multi_video_enabled\":{\"value\":true},\"live_event_timeline_default_refresh_rate_interval_seconds\":{\"value\":30},\"live_event_timeline_minimum_refresh_rate_interval_seconds\":{\"value\":10},\"live_event_timeline_server_controlled_refresh_rate_enabled\":{\"value\":true},\"live_event_vod_promoted_content_enabled\":{\"value\":true},\"live_event_docking_enabled\":{\"value\":true},\"livepipeline_client_enabled\":{\"value\":true},\"livepipeline_dm_features_enabled\":{\"value\":true},\"livepipeline_tweetengagement_enabled\":{\"value\":true},\"moment_annotations_enabled\":{\"value\":true},\"navigation_stack_referrer_param_enabled\":{\"value\":false},\"network_layer_503_backoff_mode\":{\"value\":\"host\"},\"report_flow_id_enabled\":{\"value\":false},\"responsive_web_2fa_settings_change_copy_enabled\":{\"value\":true},\"responsive_web_alt_svc\":{\"value\":false},\"responsive_web_alt_text_badge_enabled\":{\"value\":false},\"responsive_web_api_transition_enabled\":{\"value\":false},\"responsive_web_auto_logout_multiaccount_enabled\":{\"value\":true},\"responsive_web_auto_logout_restrictedauthtoken_enabled\":{\"value\":true},\"responsive_web_auto_logout_twid_enabled\":{\"value\":true},\"responsive_web_branch_download_links_enabled\":{\"value\":true},\"responsive_web_branch_sdk_enabled\":{\"value\":true},\"responsive_web_broadcast_page_card_enabled\":{\"value\":true},\"responsive_web_cleanup_macaw_swift_indexed_db\":{\"value\":true},\"responsive_web_composer_card_previews_enabled\":{\"value\":false},\"responsive_web_continue_as_param_enabled\":{\"value\":true},\"responsive_web_continue_as_always_enabled\":{\"value\":false},\"responsive_web_conversation_tree_enabled\":{\"value\":false},\"responsive_web_conversation_tree_toggle\":{\"value\":false},\"responsive_web_conversation_tree_hide_tweet_actions\":{\"value\":false},\"responsive_web_conversation_tree_hide_tweet_action_counts\":{\"value\":false},\"responsive_web_conversation_tree_hide_caret\":{\"value\":false},\"responsive_web_csrf_clientside_enabled\":{\"value\":true},\"responsive_web_dark_mode_scrollbars_enabled\":{\"value\":false},\"responsive_web_desktop_app_reload_hard_ttl\":{\"value\":86400000},\"responsive_web_desktop_app_reload_nightly_reset_enabled\":{\"value\":false},\"responsive_web_desktop_app_reload_soft_ttl\":{\"value\":86400000},\"responsive_web_disable_access\":{\"value\":true},\"responsive_web_dm_quick_access_enabled\":{\"value\":false},\"responsive_web_dm_quick_access_with_close_enabled\":{\"value\":false},\"responsive_web_elevated_qt_api_enabled\":{\"value\":false},\"responsive_web_elevated_qt_ui_configuration\":{\"value\":\"\"},\"responsive_web_eu_countries\":{\"value\":[\"at\",\"be\",\"bg\",\"ch\",\"cy\",\"cz\",\"de\",\"dk\",\"ee\",\"es\",\"fi\",\"fr\",\"gb\",\"gr\",\"hr\",\"hu\",\"ie\",\"is\",\"it\",\"li\",\"lt\",\"lu\",\"lv\",\"mt\",\"nl\",\"no\",\"pl\",\"pt\",\"ro\",\"se\",\"si\",\"sk\"]},\"responsive_web_explore_as_lohp_enabled\":{\"value\":true},\"responsive_web_explore_tab_followup_enabled\":{\"value\":true},\"responsive_web_extension_compatibility_hide\":{\"value\":false},\"responsive_web_extension_compatibility_impression_guard\":{\"value\":true},\"responsive_web_extension_compatibility_override_param\":{\"value\":false},\"responsive_web_extension_compatibility_scribe\":{\"value\":true},\"responsive_web_extension_compatibility_size_threshold\":{\"value\":50},\"responsive_web_fake_root_twitter_domain_for_testing\":{\"value\":false},\"responsive_web_feature_switch_dash_enabled\":{\"value\":false},\"responsive_web_fetch_hashflags_on_boot\":{\"value\":true},\"responsive_web_framerate_tracking_home_enabled\":{\"value\":false},\"responsive_web_graphql_amr_timeline\":{\"value\":false},\"responsive_web_graphql_dark_reads_probability\":{\"value\":0},\"responsive_web_graphql_list_crud\":{\"value\":true},\"responsive_web_graphql_list_management_timelines_enabled\":{\"value\":false},\"responsive_web_graphql_list_members_subscribers_enabled\":{\"value\":false},\"responsive_web_graphql_list_operations\":{\"value\":false},\"responsive_web_graphql_tweet_results\":{\"value\":false},\"responsive_web_graphql_user_everywhere\":{\"value\":false},\"responsive_web_graphql_verify_credentials_enabled\":{\"value\":true},\"responsive_web_guest_token_reporting\":{\"value\":true},\"responsive_web_hide_media_previews_enabled\":{\"value\":false},\"responsive_web_hoisting_anchor_invalidation_enabled\":{\"value\":false},\"responsive_web_home_wait_for_seenIds_enabled\":{\"value\":false},\"responsive_web_horizon_video_player_enabled\":{\"value\":true},\"responsive_web_hover_on_mousemove_enabled\":{\"value\":false},\"responsive_web_html_archive_renderer_enabled\":{\"value\":true},\"responsive_web_hw_cards_in_dms_enabled\":{\"value\":false},\"responsive_web_inline_login_field_prompts_enabled\":{\"value\":false},\"responsive_web_composer_multi_draft_enabled\":{\"value\":true},\"responsive_web_inline_reply_enabled\":{\"value\":false},\"responsive_web_inline_reply_with_fab_enabled\":{\"value\":false},\"responsive_web_instream_video_enabled\":{\"value\":false},\"responsive_web_live_video_parity_periscope_auth_enabled\":{\"value\":false},\"responsive_web_login_input_type_email_enabled\":{\"value\":false},\"responsive_web_login_signup_sheet_app_install_cta_enabled\":{\"value\":true},\"responsive_web_media_upload_eager_enabled\":{\"value\":true},\"responsive_web_media_upload_limit_2g\":{\"value\":250},\"responsive_web_media_upload_limit_3g\":{\"value\":1500},\"responsive_web_media_upload_limit_slow_2g\":{\"value\":150},\"responsive_web_media_upload_md5_hashing_enabled\":{\"value\":false},\"responsive_web_media_upload_target_jpg_pixels_per_byte\":{\"value\":1},\"responsive_web_moment_maker_enabled\":{\"value\":false},\"responsive_web_moment_maker_annotations_enabled\":{\"value\":false},\"responsive_web_multiple_account_limit\":{\"value\":5},\"responsive_web_news_camera_consume_enabled\":{\"value\":true},\"responsive_web_ntab_verified_mentions_vit_internal_dogfood\":{\"value\":false},\"responsive_web_ocf_sms_autoverify_enabled\":{\"value\":false},\"responsive_web_report_page_not_found\":{\"value\":false},\"responsive_web_rich_tweet_landing_enabled\":{\"value\":true},\"responsive_web_scheduling_edit_enabled\":{\"value\":false},\"responsive_web_scheduling_enabled\":{\"value\":false},\"responsive_web_scheduling_entry_point\":{\"value\":\"overflow\"},\"responsive_web_scroller_autopoll_enabled\":{\"value\":false},\"responsive_web_scroller_v3_enabled\":{\"value\":false},\"responsive_web_search_dms_enabled\":{\"value\":true},\"responsive_web_serviceworker_safari_enabled\":{\"value\":true},\"responsive_web_serviceworker_safari_old_enabled\":{\"value\":true},\"responsive_web_side_nav_enabled\":{\"value\":false},\"responsive_web_sports_carousel\":{\"value\":false},\"responsive_web_trends_setting_new_endpoints\":{\"value\":true},\"responsive_web_trigger_test_backoff_on_bookmark\":{\"value\":false},\"responsive_web_tweet_detail_to_tweet_enabled\":{\"value\":false},\"responsive_web_tweet_drafts_enabled\":{\"value\":false},\"responsive_web_tweets_pill_local_enabled\":{\"value\":true},\"responsive_web_unified_cards_live_event_enabled\":{\"value\":true},\"responsive_web_unified_cards_poll2choice_image_enabled\":{\"value\":false},\"responsive_web_unified_cards_poll2choice_video_enabled\":{\"value\":false},\"responsive_web_unified_cards_poll3choice_image_enabled\":{\"value\":false},\"responsive_web_unified_cards_poll3choice_video_enabled\":{\"value\":false},\"responsive_web_unified_cards_poll4choice_image_enabled\":{\"value\":false},\"responsive_web_unified_cards_poll4choice_video_enabled\":{\"value\":false},\"responsive_web_unsupported_entry_tombstone\":{\"value\":false},\"responsive_web_verification_v2_enabled\":{\"value\":true},\"responsive_web_video_native_fullscreen_enabled\":{\"value\":true},\"responsive_web_video_promoted_logging_enabled\":{\"value\":true},\"responsive_web_vod_muted_captions_enabled\":{\"value\":true},\"responsive_web_vs_config_desktop_assumed_item_height\":{\"value\":100},\"responsive_web_vs_config_resize_observer_enabled\":{\"value\":true},\"responsive_web_zipkin_api_requests_enabled\":{\"value\":false},\"search_channels_discovery_page_enabled\":{\"value\":false},\"scribe_api_error_sample_size\":{\"value\":0},\"scribe_api_sample_size\":{\"value\":100},\"scribe_cdn_host_list\":{\"value\":[\"si0.twimg.com\",\"si1.twimg.com\",\"si2.twimg.com\",\"si3.twimg.com\",\"a0.twimg.com\",\"a1.twimg.com\",\"a2.twimg.com\",\"a3.twimg.com\",\"abs.twimg.com\",\"amp.twimg.com\",\"o.twimg.com\",\"pbs.twimg.com\",\"pbs-eb.twimg.com\",\"pbs-ec.twimg.com\",\"pbs-v6.twimg.com\",\"pbs-h1.twimg.com\",\"pbs-h2.twimg.com\",\"video.twimg.com\",\"platform.twitter.com\",\"cdn.api.twitter.com\",\"ton.twimg.com\",\"v.cdn.vine.co\",\"mtc.cdn.vine.co\",\"edge.vncdn.co\",\"mid.vncdn.co\"]},\"scribe_cdn_sample_size\":{\"value\":50},\"scribe_enabled\":{\"value\":true},\"soft_interventions_forward_pivot_enabled\":{\"value\":true},\"topic_landing_page_enabled\":{\"value\":false},\"topics_descriptions_enabled\":{\"value\":false},\"topics_dismiss_control_enabled\":{\"value\":false},\"topics_new_mgmt_enabled\":{\"value\":false},\"tweet_limited_actions_config_enabled\":{\"value\":true},\"tweet_limited_actions_config_non_compliant\":{\"value\":[\"reply\",\"retweet\",\"like\",\"send_via_dm\",\"add_to_bookmarks\",\"add_to_moment\",\"pin_to_profile\",\"view_tweet_activity\",\"share_tweet_via\"]},\"user_display_name_max_limit\":{\"value\":50},\"web_video_hls_mp4_threshold_sec\":{\"value\":0},\"web_video_hlsjs_max_buffer_length_pause\":{\"value\":0},\"web_video_hlsjs_max_buffer_length_play\":{\"value\":0},\"web_video_hlsjs_version\":{\"value\":\"\"}},\"debug\":{},\"impression_pointers\":{},\"impressions\":{},\"featureSetToken\":\"b1a35d3f783a7135b12eec913cf27ba0f80b665b\",\"isLoaded\":true,\"isLoading\":false,\"keysRead\":{},\"settingsVersion\":\"05836c1d3f279501d608759b225448a0\"},\"urt\":{},\"entities\":{\"users\":{\"entities\":{},\"errors\":{},\"fetchStatus\":{}},\"tweets\":{\"entities\":{},\"errors\":{},\"fetchStatus\":{}},\"cards\":{\"entities\":{},\"errors\":{},\"fetchStatus\":{}}},\"toasts\":[],\"devices\":{\"browserPush\":{\"fetchStatus\":\"none\",\"pushNotificationsPrompt\":{\"dismissed\":false,\"fetchStatus\":\"none\"},\"subscribed\":false,\"supported\":null},\"devices\":{\"data\":{\"emails\":[],\"phone_numbers\":[]},\"fetchStatus\":\"none\"},\"notificationSettings\":{\"push_settings\":{\"error\":null,\"fetchStatus\":\"none\"},\"push_settings_template\":{\"template\":{\"settings\":[]}},\"sms_settings\":{\"error\":null,\"fetchStatus\":\"none\"},\"sms_settings_template\":{\"template\":{\"settings\":[]}},\"checkin_time\":null}},\"typeaheadUsers\":{\"fetchStatus\":\"none\",\"users\":{},\"denylist\":{},\"lastUpdated\":0,\"index\":{}},\"session\":{\"country\":\"MX\",\"emailLiteLoginEligibility\":{\"fetchStatus\":\"none\"},\"guestId\":\"159002511442889432\",\"language\":\"en\",\"oneFactorLoginEligibility\":{\"fetchStatus\":\"none\"}},\"settings\":{\"local\":{\"nextPushCheckin\":0,\"shouldAutoPlayGif\":false,\"scale\":\"normal\",\"themeColor\":\"blue\",\"highContrastEnabled\":false,\"themeBackground\":\"light\",\"loginPromptLastShown\":0,\"mediaPreviewsEnabled\":true,\"reducedMotionEnabled\":false,\"conversationTreeEnabled\":false,\"showTweetMediaDetailDrawer\":true},\"remote\":{\"settings\":{\"display_sensitive_media\":false},\"fetchStatus\":\"none\"},\"dataSaver\":{\"dataSaverMode\":false},\"transient\":{\"dtabBarInfo\":{\"dtabAll\":null,\"dtabRweb\":null,\"hide\":false},\"loginPromptShown\":false,\"lastViewedDmInboxPath\":\"/messages\",\"themeFocus\":\"\"}},\"hashflags\":{\"fetchStatus\":\"none\",\"hashflags\":{}}};\n",
      "window.__META_DATA__ = {\"env\":\"prod\",\"isFromDynamicRenderer\":false,\"isLoggedIn\":false,\"isRTL\":false,\"hasMultiAccountCookie\":false,\"uaParserTags\":[\"m2\",\"rweb\",\"msw\"],\"serverDate\":1590025114469,\"sha\":\"9317ee3a12783c1dd33a2070c315a51615093f73\"};\n",
      "  </script>\n",
      "  <script nonce=\"\">\n",
      "   document.cookie = decodeURIComponent(\"gt=1263283008058114055; Max-Age=10800; Domain=.twitter.com; Path=/; Secure\");\n",
      "  </script>\n",
      "  <script charset=\"utf-8\" nonce=\"\" type=\"text/javascript\">\n",
      "   window.__SCRIPTS_LOADED__ = {};\n",
      "  !function(e){function n(n){for(var o,i,t=n[0],c=n[1],l=n[2],m=0,s=[];m&lt;t.length;m++)i=t[m],Object.prototype.hasOwnProperty.call(a,i)&amp;&amp;a[i]&amp;&amp;s.push(a[i][0]),a[i]=0;for(o in c)Object.prototype.hasOwnProperty.call(c,o)&amp;&amp;(e[o]=c[o]);for(u&amp;&amp;u(n);s.length;)s.shift()();return r.push.apply(r,l||[]),d()}function d(){for(var e,n=0;n&lt;r.length;n++){for(var d=r[n],o=!0,t=1;t&lt;d.length;t++){var c=d[t];0!==a[c]&amp;&amp;(o=!1)}o&amp;&amp;(r.splice(n--,1),e=i(i.s=d[0]))}return e}var o={},a={0:0},r=[];function i(n){if(o[n])return o[n].exports;var d=o[n]={i:n,l:!1,exports:{}};return e[n].call(d.exports,d,d.exports,i),d.l=!0,d.exports}i.e=function(e){var n=[],d=a[e];if(0!==d)if(d)n.push(d[2]);else{var o=new Promise((function(n,o){d=a[e]=[n,o]}));n.push(d[2]=o);var r,t=document.createElement(\"script\");t.charset=\"utf-8\",t.timeout=120,i.nc&amp;&amp;t.setAttribute(\"nonce\",i.nc),t.src=function(e){return i.p+\"\"+({2:\"shared~bundle.HomeTimeline\",3:\"shared~bundle.DirectMessages\",4:\"shared~bundle.UserProfile\",5:\"shared~bundle.Settings\",6:\"bundle.DMRichTextCompose~bundle.DirectMessages~loader.DMDrawer\",7:\"bundle.NewsCameraCapsule~loader.NewsCamera~loaders.video.VideoPlayerDefaultUI\",8:\"bundle.Display~bundle.Settings\",9:\"bundle.Explore~loader.ExploreSidebar\",10:\"bundle.LiveEvent~bundle.MomentMaker\",11:\"bundle.MomentMaker~loader.Typeahead\",12:\"bundle.NewsCameraCapsule~loader.NewsCamera\",13:\"bundle.Place~bundle.QuoteTweetActivity\",14:\"loaders.video.PlayerBase~ondemand.lex\",15:\"vendors~bundle.DMRichTextCompose~ondemand.RichText\",16:\"vendors~bundle.MomentMaker~ondemand.EditPinned\",17:\"bundle.AboutThisAd\",18:\"bundle.Account\",19:\"bundle.AdvancedSearch\",20:\"bundle.Bookmarks\",21:\"bundle.Broadcast\",22:\"bundle.Collection\",23:\"bundle.Compose\",24:\"bundle.ComposeMedia\",25:\"bundle.ConnectTab\",26:\"bundle.Conversation\",27:\"bundle.ConversationParticipants\",28:\"bundle.DMRichTextCompose\",29:\"bundle.DirectMessages\",30:\"bundle.Display\",31:\"bundle.Download\",32:\"bundle.Explore\",33:\"bundle.ExploreTopics\",34:\"bundle.FollowerRequests\",35:\"bundle.GenericTimeline\",36:\"bundle.GifSearch\",37:\"bundle.HomeTimeline\",38:\"bundle.KeyboardShortcuts\",39:\"bundle.LiveEvent\",40:\"bundle.LoggedOutHome\",41:\"bundle.Login\",42:\"bundle.Logout\",43:\"bundle.Moment\",44:\"bundle.MomentMaker\",45:\"bundle.MultiAccount\",46:\"bundle.NetworkInstrument\",47:\"bundle.NewsCameraCapsule\",48:\"bundle.NotificationDetail\",49:\"bundle.Notifications\",50:\"bundle.Ocf\",51:\"bundle.Place\",52:\"bundle.PlainTextCompose\",53:\"bundle.ProfileRedirect\",54:\"bundle.QuoteTweetActivity\",55:\"bundle.Report\",56:\"bundle.RichTextCompose\",57:\"bundle.Search\",58:\"bundle.Settings\",59:\"bundle.SettingsInternals\",60:\"bundle.SettingsProfile\",61:\"bundle.SettingsTransparency\",62:\"bundle.SmsLogin\",63:\"bundle.Topics\",64:\"bundle.Trends\",65:\"bundle.TweetActivity\",66:\"bundle.TweetMediaDetail\",67:\"bundle.TweetMediaTags\",68:\"bundle.Twitterversary\",69:\"bundle.UserAvatar\",70:\"bundle.UserFollowLists\",71:\"bundle.UserHeader\",72:\"bundle.UserLists\",73:\"bundle.UserMoments\",74:\"bundle.UserProfile\",75:\"bundle.UserProfileTimelines\",76:\"bundle.UserRedirect\",175:\"loader.AbsolutePower\",176:\"loader.AppModules\",177:\"loader.DMDrawer\",178:\"loader.DashMenu\",179:\"loader.ExploreSidebar\",180:\"loader.FeedbackSheet\",181:\"loader.FeedbackTombstone\",182:\"loader.HWCard\",183:\"loader.NewTweetsPill\",184:\"loader.NewsCamera\",185:\"loader.PeriscopeOverlay\",186:\"loader.ProfileClusterFollow\",187:\"loader.PushNotificationsPrompt\",188:\"loader.SideNav\",189:\"loader.SignupModule\",190:\"loader.TimelineGap\",191:\"loader.TimelineRenderer\",192:\"loader.TweetCurationActionMenu\",193:\"loader.TweetPhotos\",194:\"loader.Typeahead\",195:\"loader.WideLayout\",196:\"loader.graphQLDarkReads\",197:\"loaders.video.PlayerBase\",198:\"loaders.video.PlayerHls12\",199:\"loaders.video.PlayerHls13\",200:\"loaders.video.PlayerUi\",201:\"loaders.video.VideoPlayerDefaultUI\",203:\"ondemand.Balloons\",204:\"ondemand.CarouselScroller\",205:\"ondemand.ComposeScheduling\",206:\"ondemand.Dropdown\",207:\"ondemand.EditBirthdate\",208:\"ondemand.EditPinned\",209:\"ondemand.EmojiPicker\",210:\"ondemand.HoverCard\",211:\"ondemand.InlinePlayer\",212:\"ondemand.IntentPrompt\",213:\"ondemand.MicrosoftInterface\",214:\"ondemand.ProfileSidebar\",215:\"ondemand.RichText\",216:\"ondemand.SettingsInternals\",217:\"ondemand.countries-ar\",218:\"ondemand.countries-bg\",219:\"ondemand.countries-bn\",220:\"ondemand.countries-ca\",221:\"ondemand.countries-cs\",222:\"ondemand.countries-da\",223:\"ondemand.countries-de\",224:\"ondemand.countries-el\",225:\"ondemand.countries-en\",226:\"ondemand.countries-en-GB\",227:\"ondemand.countries-es\",228:\"ondemand.countries-eu\",229:\"ondemand.countries-fa\",230:\"ondemand.countries-fi\",231:\"ondemand.countries-fil\",232:\"ondemand.countries-fr\",233:\"ondemand.countries-ga\",234:\"ondemand.countries-gl\",235:\"ondemand.countries-gu\",236:\"ondemand.countries-he\",237:\"ondemand.countries-hi\",238:\"ondemand.countries-hr\",239:\"ondemand.countries-hu\",240:\"ondemand.countries-id\",241:\"ondemand.countries-it\",242:\"ondemand.countries-ja\",243:\"ondemand.countries-kn\",244:\"ondemand.countries-ko\",245:\"ondemand.countries-mr\",246:\"ondemand.countries-ms\",247:\"ondemand.countries-nb\",248:\"ondemand.countries-nl\",249:\"ondemand.countries-pl\",250:\"ondemand.countries-pt\",251:\"ondemand.countries-ro\",252:\"ondemand.countries-ru\",253:\"ondemand.countries-sk\",254:\"ondemand.countries-sr\",255:\"ondemand.countries-sv\",256:\"ondemand.countries-ta\",257:\"ondemand.countries-th\",258:\"ondemand.countries-tr\",259:\"ondemand.countries-uk\",260:\"ondemand.countries-ur\",261:\"ondemand.countries-zh\",262:\"ondemand.countries-zh-Hant\",263:\"ondemand.emoji.ar\",264:\"ondemand.emoji.bg\",265:\"ondemand.emoji.bn\",266:\"ondemand.emoji.ca\",267:\"ondemand.emoji.cs\",268:\"ondemand.emoji.da\",269:\"ondemand.emoji.de\",270:\"ondemand.emoji.el\",271:\"ondemand.emoji.en\",272:\"ondemand.emoji.en-GB\",273:\"ondemand.emoji.en-ss\",274:\"ondemand.emoji.en-xx\",275:\"ondemand.emoji.es\",276:\"ondemand.emoji.eu\",277:\"ondemand.emoji.fa\",278:\"ondemand.emoji.fi\",279:\"ondemand.emoji.fil\",280:\"ondemand.emoji.fr\",281:\"ondemand.emoji.ga\",282:\"ondemand.emoji.gl\",283:\"ondemand.emoji.gu\",284:\"ondemand.emoji.he\",285:\"ondemand.emoji.hi\",286:\"ondemand.emoji.hr\",287:\"ondemand.emoji.hu\",288:\"ondemand.emoji.id\",289:\"ondemand.emoji.it\",290:\"ondemand.emoji.ja\",291:\"ondemand.emoji.kn\",292:\"ondemand.emoji.ko\",293:\"ondemand.emoji.mr\",294:\"ondemand.emoji.ms\",295:\"ondemand.emoji.nb\",296:\"ondemand.emoji.nl\",297:\"ondemand.emoji.pl\",298:\"ondemand.emoji.pt\",299:\"ondemand.emoji.ro\",300:\"ondemand.emoji.ru\",301:\"ondemand.emoji.sk\",302:\"ondemand.emoji.sr\",303:\"ondemand.emoji.sv\",304:\"ondemand.emoji.ta\",305:\"ondemand.emoji.th\",306:\"ondemand.emoji.tr\",307:\"ondemand.emoji.uk\",308:\"ondemand.emoji.ur\",309:\"ondemand.emoji.vi\",310:\"ondemand.emoji.zh\",311:\"ondemand.emoji.zh-Hant\",312:\"ondemand.framerateTracking\",313:\"ondemand.lex\",315:\"vendors~bundle.MomentMaker\",316:\"vendors~loaders.video.PlayerBase\",317:\"vendors~loaders.video.PlayerUi\",318:\"vendors~ondemand.EmojiPicker\"}[e]||e)+\".\"+{2:\"2d63e42\",3:\"adc5566\",4:\"2ceaa8f\",5:\"564e83c\",6:\"4219044\",7:\"f81e4b8\",8:\"39f0932\",9:\"405b3a0\",10:\"1711082\",11:\"9fd100c\",12:\"323009c\",13:\"c7e5e69\",14:\"95c3cdc\",15:\"2bbdc26\",16:\"42639d8\",17:\"54acafd\",18:\"a9f7448\",19:\"08b82dd\",20:\"73e3a94\",21:\"b6b3c92\",22:\"770888e\",23:\"649091f\",24:\"1f1e028\",25:\"9acb498\",26:\"cfc7ac5\",27:\"3634f66\",28:\"65c75d9\",29:\"249193c\",30:\"ee959b1\",31:\"0dd0eb1\",32:\"0121101\",33:\"4afe4b4\",34:\"14e2092\",35:\"bb1c46c\",36:\"bc1e6c1\",37:\"1aa4a77\",38:\"f5840be\",39:\"c9c0030\",40:\"7777e6b\",41:\"bb7f8a3\",42:\"16afeb5\",43:\"8ceec34\",44:\"7f85de9\",45:\"497c39c\",46:\"d5287b9\",47:\"e6f9fe4\",48:\"f5dd5b1\",49:\"cd26a49\",50:\"8f05002\",51:\"59bc19c\",52:\"3fd7203\",53:\"4567b92\",54:\"cd3ea69\",55:\"d32bfb8\",56:\"322090f\",57:\"d9c26d8\",58:\"1af8a2b\",59:\"4b926f1\",60:\"acfec7c\",61:\"215ca13\",62:\"645718d\",63:\"5317ba7\",64:\"2da7ed3\",65:\"30d7acf\",66:\"eb3482c\",67:\"8a81b07\",68:\"25a0c64\",69:\"30bf485\",70:\"82a1eab\",71:\"cd0759a\",72:\"3a34ead\",73:\"daecea9\",74:\"8cb5d6a\",75:\"3f41402\",76:\"76c5261\",175:\"6541d94\",176:\"3fa98ce\",177:\"179c138\",178:\"e0672fc\",179:\"bd7ad99\",180:\"963af85\",181:\"763333d\",182:\"de21657\",183:\"8cf2a45\",184:\"4481fd3\",185:\"c59c2c8\",186:\"d853019\",187:\"7e965c1\",188:\"4c42476\",189:\"1f3d6d3\",190:\"e1a5f30\",191:\"85c0402\",192:\"43ccbce\",193:\"eedb593\",194:\"82bcb24\",195:\"8de0da7\",196:\"2a277b2\",197:\"8474979\",198:\"fd3496a\",199:\"2d152fb\",200:\"6d05cc8\",201:\"6e4b095\",203:\"cb5606e\",204:\"b50d281\",205:\"3000022\",206:\"81f8463\",207:\"e25136a\",208:\"a4dc473\",209:\"554c732\",210:\"80e3318\",211:\"795be45\",212:\"d7af213\",213:\"ad07956\",214:\"4e8a8fa\",215:\"596960b\",216:\"d6f7a03\",217:\"045e2ec\",218:\"0276d88\",219:\"a5fee64\",220:\"7054d84\",221:\"d06e3d4\",222:\"fd40e4d\",223:\"dfb3ebc\",224:\"381e366\",225:\"b493723\",226:\"562dd1e\",227:\"bfe253a\",228:\"02bc3b4\",229:\"91c2d31\",230:\"10dccb4\",231:\"3a114dc\",232:\"bfd2281\",233:\"60957ad\",234:\"657345c\",235:\"01eecb9\",236:\"02f5342\",237:\"343d63a\",238:\"dfc4591\",239:\"626ffbf\",240:\"6fc883d\",241:\"d62dfeb\",242:\"2db03d7\",243:\"2fe7e46\",244:\"b1cef27\",245:\"dbb719d\",246:\"3cb53af\",247:\"482d327\",248:\"a42a390\",249:\"e8fba3c\",250:\"35712ff\",251:\"31a49bf\",252:\"328917a\",253:\"7a12f7a\",254:\"0d17e8a\",255:\"99fcaba\",256:\"f1da77e\",257:\"bfd26b7\",258:\"39e1d06\",259:\"906f061\",260:\"cc43427\",261:\"4857058\",262:\"2a6e5ae\",263:\"a40e99c\",264:\"cd8bb69\",265:\"94af149\",266:\"df29a29\",267:\"a5db6dd\",268:\"85d5228\",269:\"4916f60\",270:\"a8b4709\",271:\"903c0a5\",272:\"80a2ada\",273:\"5df16f1\",274:\"67d853a\",275:\"2191e1d\",276:\"7718cb7\",277:\"acf5010\",278:\"9a73702\",279:\"dfc04cb\",280:\"ecd15d7\",281:\"bc80f06\",282:\"f82f6c0\",283:\"da50382\",284:\"ebb50d7\",285:\"89a3e11\",286:\"65e3e65\",287:\"a3230f3\",288:\"d3ccb43\",289:\"5687605\",290:\"8bd173a\",291:\"cfefae0\",292:\"a657dc2\",293:\"35ed913\",294:\"c07b71c\",295:\"1aeb093\",296:\"9517bc9\",297:\"9a40a75\",298:\"bd24e76\",299:\"a2c4035\",300:\"d0cc6bf\",301:\"bad5c71\",302:\"17ba7c9\",303:\"a10b35d\",304:\"0d9a230\",305:\"b787f1f\",306:\"5a5dc38\",307:\"0caea3a\",308:\"2ea1558\",309:\"adddffc\",310:\"e84f8bc\",311:\"d9e3c48\",312:\"eb48e03\",313:\"6310fa8\",315:\"0922686\",316:\"652b98f\",317:\"b5c8ec3\",318:\"121ad30\"}[e]+\"4.js\"}(e);var c=new Error;r=function(n){t.onerror=t.onload=null,clearTimeout(l);var d=a[e];if(0!==d){if(d){var o=n&amp;&amp;(\"load\"===n.type?\"missing\":n.type),r=n&amp;&amp;n.target&amp;&amp;n.target.src;c.message=\"Loading chunk \"+e+\" failed.\\n(\"+o+\": \"+r+\")\",c.name=\"ChunkLoadError\",c.type=o,c.request=r,d[1](c)}a[e]=void 0}};var l=setTimeout((function(){r({type:\"timeout\",target:t})}),12e4);t.onerror=t.onload=r,document.head.appendChild(t)}return Promise.all(n)},i.m=e,i.c=o,i.d=function(e,n,d){i.o(e,n)||Object.defineProperty(e,n,{enumerable:!0,get:d})},i.r=function(e){\"undefined\"!=typeof Symbol&amp;&amp;Symbol.toStringTag&amp;&amp;Object.defineProperty(e,Symbol.toStringTag,{value:\"Module\"}),Object.defineProperty(e,\"__esModule\",{value:!0})},i.t=function(e,n){if(1&amp;n&amp;&amp;(e=i(e)),8&amp;n)return e;if(4&amp;n&amp;&amp;\"object\"==typeof e&amp;&amp;e&amp;&amp;e.__esModule)return e;var d=Object.create(null);if(i.r(d),Object.defineProperty(d,\"default\",{enumerable:!0,value:e}),2&amp;n&amp;&amp;\"string\"!=typeof e)for(var o in e)i.d(d,o,function(n){return e[n]}.bind(null,o));return d},i.n=function(e){var n=e&amp;&amp;e.__esModule?function(){return e.default}:function(){return e};return i.d(n,\"a\",n),n},i.o=function(e,n){return Object.prototype.hasOwnProperty.call(e,n)},i.p=\"https://abs.twimg.com/responsive-web/web/\",i.oe=function(e){throw e};var t=window.webpackJsonp=window.webpackJsonp||[],c=t.push.bind(t);t.push=n,t=t.slice();for(var l=0;l&lt;t.length;l++)n(t[l]);var u=c;d()}([]),window.__SCRIPTS_LOADED__.runtime=!0;\n",
      "//# sourceMappingURL=runtime.5d6fb6d4.js.map\n",
      "  </script>\n",
      "  <script charset=\"utf-8\" crossorigin=\"anonymous\" nonce=\"\" src=\"https://abs.twimg.com/responsive-web/web/polyfills.13131df4.js\" type=\"text/javascript\">\n",
      "  </script>\n",
      "  <script charset=\"utf-8\" crossorigin=\"anonymous\" nonce=\"\" src=\"https://abs.twimg.com/responsive-web/web/vendors~main.e97523d4.js\" type=\"text/javascript\">\n",
      "  </script>\n",
      "  <script charset=\"utf-8\" crossorigin=\"anonymous\" nonce=\"\" src=\"https://abs.twimg.com/responsive-web/web/i18n-rweb/en.f62cad84.js\" type=\"text/javascript\">\n",
      "  </script>\n",
      "  <script charset=\"utf-8\" crossorigin=\"anonymous\" nonce=\"\" src=\"https://abs.twimg.com/responsive-web/web/i18n-horizon/en.983ccd04.js\" type=\"text/javascript\">\n",
      "  </script>\n",
      "  <script charset=\"utf-8\" crossorigin=\"anonymous\" nonce=\"\" src=\"https://abs.twimg.com/responsive-web/web/main.22f2dd14.js\" type=\"text/javascript\">\n",
      "  </script>\n",
      "  <script nonce=\"\">\n",
      "   if (!window.__SCRIPTS_LOADED__['main']) {\n",
      "    document.getElementById('ScriptLoadFailure').style.display = 'block';\n",
      "  }\n",
      "  </script>\n",
      " </body>\n",
      "</html>\n"
     ]
    }
   ],
   "source": [
    "# Link the browser to a html and Parse the twitter account with Beautiful Soup, and track down the text\n",
    "html = browser.html\n",
    "twittersoup = bs(html, 'html.parser') #test succesfully, html parse\n",
    "print(twittersoup.prettify())# test succesfull html generated"
   ]
  },
  {
   "cell_type": "code",
   "execution_count": 15,
   "metadata": {},
   "outputs": [],
   "source": [
    "#Make a req.get to the twitter acountm and use beautifull soap to parse the text into html\n",
    "lastupdate = req.get(\"https://twitter.com/marswxreport?lang=en\")\n",
    "twittersoup2 = bs(lastupdate.text, 'html.parser') #text succesfull text parse into html"
   ]
  },
  {
   "cell_type": "code",
   "execution_count": 16,
   "metadata": {},
   "outputs": [
    {
     "name": "stdout",
     "output_type": "stream",
     "text": [
      "\n",
      "InSight sol 526 (2020-05-20) low -94.0ºC (-137.2ºF) high -1.8ºC (28.8ºF)\n",
      "winds from the SW at 5.2 m/s (11.7 mph) gusting to 19.6 m/s (43.9 mph)\n",
      "pressure at 7.10 hPapic.twitter.com/dt22WVMj9u\n",
      "\n"
     ]
    }
   ],
   "source": [
    "#Use the beatifull soap function find all and loop the tweets inside the twitter acount te get the latest tweet text\n",
    "twitteracount = twittersoup2.find_all('div', class_=\"js-tweet-text-container\")\n",
    "for tweets in twitteracount:\n",
    "    if tweets.text:\n",
    "        print(tweets.text)\n",
    "        break\n",
    "#test succesfull latest tweet generated"
   ]
  },
  {
   "cell_type": "markdown",
   "metadata": {},
   "source": [
    "4) Mars Facts"
   ]
  },
  {
   "cell_type": "markdown",
   "metadata": {},
   "source": [
    "A) Visit the Mars Facts webpage  and use Pandas to scrape the table containing facts about the planet including Diameter, Mass, etc."
   ]
  },
  {
   "cell_type": "code",
   "execution_count": 17,
   "metadata": {},
   "outputs": [],
   "source": [
    "# Establish link with url: Latest NewsJPL Featured Space Image\n",
    "marsfacts = \"https://space-facts.com/mars/\"\n",
    "browser.visit(marsfacts)\n",
    "html = browser.html #test succesfull link established with html file"
   ]
  },
  {
   "cell_type": "code",
   "execution_count": 18,
   "metadata": {
    "scrolled": true
   },
   "outputs": [
    {
     "data": {
      "text/html": [
       "<div>\n",
       "<style scoped>\n",
       "    .dataframe tbody tr th:only-of-type {\n",
       "        vertical-align: middle;\n",
       "    }\n",
       "\n",
       "    .dataframe tbody tr th {\n",
       "        vertical-align: top;\n",
       "    }\n",
       "\n",
       "    .dataframe thead th {\n",
       "        text-align: right;\n",
       "    }\n",
       "</style>\n",
       "<table border=\"1\" class=\"dataframe\">\n",
       "  <thead>\n",
       "    <tr style=\"text-align: right;\">\n",
       "      <th></th>\n",
       "      <th>0</th>\n",
       "      <th>1</th>\n",
       "    </tr>\n",
       "  </thead>\n",
       "  <tbody>\n",
       "    <tr>\n",
       "      <th>0</th>\n",
       "      <td>Equatorial Diameter:</td>\n",
       "      <td>6,792 km</td>\n",
       "    </tr>\n",
       "    <tr>\n",
       "      <th>1</th>\n",
       "      <td>Polar Diameter:</td>\n",
       "      <td>6,752 km</td>\n",
       "    </tr>\n",
       "    <tr>\n",
       "      <th>2</th>\n",
       "      <td>Mass:</td>\n",
       "      <td>6.39 × 10^23 kg (0.11 Earths)</td>\n",
       "    </tr>\n",
       "    <tr>\n",
       "      <th>3</th>\n",
       "      <td>Moons:</td>\n",
       "      <td>2 (Phobos &amp; Deimos)</td>\n",
       "    </tr>\n",
       "    <tr>\n",
       "      <th>4</th>\n",
       "      <td>Orbit Distance:</td>\n",
       "      <td>227,943,824 km (1.38 AU)</td>\n",
       "    </tr>\n",
       "    <tr>\n",
       "      <th>5</th>\n",
       "      <td>Orbit Period:</td>\n",
       "      <td>687 days (1.9 years)</td>\n",
       "    </tr>\n",
       "    <tr>\n",
       "      <th>6</th>\n",
       "      <td>Surface Temperature:</td>\n",
       "      <td>-87 to -5 °C</td>\n",
       "    </tr>\n",
       "    <tr>\n",
       "      <th>7</th>\n",
       "      <td>First Record:</td>\n",
       "      <td>2nd millennium BC</td>\n",
       "    </tr>\n",
       "    <tr>\n",
       "      <th>8</th>\n",
       "      <td>Recorded By:</td>\n",
       "      <td>Egyptian astronomers</td>\n",
       "    </tr>\n",
       "  </tbody>\n",
       "</table>\n",
       "</div>"
      ],
      "text/plain": [
       "                      0                              1\n",
       "0  Equatorial Diameter:                       6,792 km\n",
       "1       Polar Diameter:                       6,752 km\n",
       "2                 Mass:  6.39 × 10^23 kg (0.11 Earths)\n",
       "3                Moons:            2 (Phobos & Deimos)\n",
       "4       Orbit Distance:       227,943,824 km (1.38 AU)\n",
       "5         Orbit Period:           687 days (1.9 years)\n",
       "6  Surface Temperature:                   -87 to -5 °C\n",
       "7         First Record:              2nd millennium BC\n",
       "8          Recorded By:           Egyptian astronomers"
      ]
     },
     "execution_count": 18,
     "metadata": {},
     "output_type": "execute_result"
    }
   ],
   "source": [
    "# Use Pandas to scrape the table containing facts about Mars\n",
    "mars_table = pd.read_html(marsfacts)\n",
    "mars_facts1 = mars_table[0]\n",
    "mars_facts1 # test succesfull dataframe generated"
   ]
  },
  {
   "cell_type": "code",
   "execution_count": 19,
   "metadata": {},
   "outputs": [
    {
     "data": {
      "text/html": [
       "<div>\n",
       "<style scoped>\n",
       "    .dataframe tbody tr th:only-of-type {\n",
       "        vertical-align: middle;\n",
       "    }\n",
       "\n",
       "    .dataframe tbody tr th {\n",
       "        vertical-align: top;\n",
       "    }\n",
       "\n",
       "    .dataframe thead th {\n",
       "        text-align: right;\n",
       "    }\n",
       "</style>\n",
       "<table border=\"1\" class=\"dataframe\">\n",
       "  <thead>\n",
       "    <tr style=\"text-align: right;\">\n",
       "      <th></th>\n",
       "      <th>Mars Description</th>\n",
       "      <th>Mars Value</th>\n",
       "    </tr>\n",
       "  </thead>\n",
       "  <tbody>\n",
       "    <tr>\n",
       "      <th>0</th>\n",
       "      <td>Equatorial Diameter:</td>\n",
       "      <td>6,792 km</td>\n",
       "    </tr>\n",
       "    <tr>\n",
       "      <th>1</th>\n",
       "      <td>Polar Diameter:</td>\n",
       "      <td>6,752 km</td>\n",
       "    </tr>\n",
       "    <tr>\n",
       "      <th>2</th>\n",
       "      <td>Mass:</td>\n",
       "      <td>6.39 × 10^23 kg (0.11 Earths)</td>\n",
       "    </tr>\n",
       "    <tr>\n",
       "      <th>3</th>\n",
       "      <td>Moons:</td>\n",
       "      <td>2 (Phobos &amp; Deimos)</td>\n",
       "    </tr>\n",
       "    <tr>\n",
       "      <th>4</th>\n",
       "      <td>Orbit Distance:</td>\n",
       "      <td>227,943,824 km (1.38 AU)</td>\n",
       "    </tr>\n",
       "    <tr>\n",
       "      <th>5</th>\n",
       "      <td>Orbit Period:</td>\n",
       "      <td>687 days (1.9 years)</td>\n",
       "    </tr>\n",
       "    <tr>\n",
       "      <th>6</th>\n",
       "      <td>Surface Temperature:</td>\n",
       "      <td>-87 to -5 °C</td>\n",
       "    </tr>\n",
       "    <tr>\n",
       "      <th>7</th>\n",
       "      <td>First Record:</td>\n",
       "      <td>2nd millennium BC</td>\n",
       "    </tr>\n",
       "    <tr>\n",
       "      <th>8</th>\n",
       "      <td>Recorded By:</td>\n",
       "      <td>Egyptian astronomers</td>\n",
       "    </tr>\n",
       "  </tbody>\n",
       "</table>\n",
       "</div>"
      ],
      "text/plain": [
       "       Mars Description                     Mars Value\n",
       "0  Equatorial Diameter:                       6,792 km\n",
       "1       Polar Diameter:                       6,752 km\n",
       "2                 Mass:  6.39 × 10^23 kg (0.11 Earths)\n",
       "3                Moons:            2 (Phobos & Deimos)\n",
       "4       Orbit Distance:       227,943,824 km (1.38 AU)\n",
       "5         Orbit Period:           687 days (1.9 years)\n",
       "6  Surface Temperature:                   -87 to -5 °C\n",
       "7         First Record:              2nd millennium BC\n",
       "8          Recorded By:           Egyptian astronomers"
      ]
     },
     "execution_count": 19,
     "metadata": {},
     "output_type": "execute_result"
    }
   ],
   "source": [
    "#rename the columns\n",
    "mars_facts1.rename(columns={0: 'Mars Description', 1: 'Mars Value'}) #test succesfull table rename"
   ]
  },
  {
   "cell_type": "code",
   "execution_count": 20,
   "metadata": {},
   "outputs": [
    {
     "data": {
      "text/html": [
       "<div>\n",
       "<style scoped>\n",
       "    .dataframe tbody tr th:only-of-type {\n",
       "        vertical-align: middle;\n",
       "    }\n",
       "\n",
       "    .dataframe tbody tr th {\n",
       "        vertical-align: top;\n",
       "    }\n",
       "\n",
       "    .dataframe thead th {\n",
       "        text-align: right;\n",
       "    }\n",
       "</style>\n",
       "<table border=\"1\" class=\"dataframe\">\n",
       "  <thead>\n",
       "    <tr style=\"text-align: right;\">\n",
       "      <th></th>\n",
       "      <th>Mars - Earth Comparison</th>\n",
       "      <th>Mars</th>\n",
       "      <th>Earth</th>\n",
       "    </tr>\n",
       "  </thead>\n",
       "  <tbody>\n",
       "    <tr>\n",
       "      <th>0</th>\n",
       "      <td>Diameter:</td>\n",
       "      <td>6,779 km</td>\n",
       "      <td>12,742 km</td>\n",
       "    </tr>\n",
       "    <tr>\n",
       "      <th>1</th>\n",
       "      <td>Mass:</td>\n",
       "      <td>6.39 × 10^23 kg</td>\n",
       "      <td>5.97 × 10^24 kg</td>\n",
       "    </tr>\n",
       "    <tr>\n",
       "      <th>2</th>\n",
       "      <td>Moons:</td>\n",
       "      <td>2</td>\n",
       "      <td>1</td>\n",
       "    </tr>\n",
       "    <tr>\n",
       "      <th>3</th>\n",
       "      <td>Distance from Sun:</td>\n",
       "      <td>227,943,824 km</td>\n",
       "      <td>149,598,262 km</td>\n",
       "    </tr>\n",
       "    <tr>\n",
       "      <th>4</th>\n",
       "      <td>Length of Year:</td>\n",
       "      <td>687 Earth days</td>\n",
       "      <td>365.24 days</td>\n",
       "    </tr>\n",
       "    <tr>\n",
       "      <th>5</th>\n",
       "      <td>Temperature:</td>\n",
       "      <td>-153 to 20 °C</td>\n",
       "      <td>-88 to 58°C</td>\n",
       "    </tr>\n",
       "  </tbody>\n",
       "</table>\n",
       "</div>"
      ],
      "text/plain": [
       "  Mars - Earth Comparison             Mars            Earth\n",
       "0               Diameter:         6,779 km        12,742 km\n",
       "1                   Mass:  6.39 × 10^23 kg  5.97 × 10^24 kg\n",
       "2                  Moons:                2                1\n",
       "3      Distance from Sun:   227,943,824 km   149,598,262 km\n",
       "4         Length of Year:   687 Earth days      365.24 days\n",
       "5            Temperature:    -153 to 20 °C      -88 to 58°C"
      ]
     },
     "execution_count": 20,
     "metadata": {},
     "output_type": "execute_result"
    }
   ],
   "source": [
    "#generete second table into a dataframe\n",
    "mars_facts2 = mars_table[1]\n",
    "mars_facts2 # test succesfull second table generated as dataframe"
   ]
  },
  {
   "cell_type": "code",
   "execution_count": 21,
   "metadata": {},
   "outputs": [
    {
     "data": {
      "text/html": [
       "<div>\n",
       "<style scoped>\n",
       "    .dataframe tbody tr th:only-of-type {\n",
       "        vertical-align: middle;\n",
       "    }\n",
       "\n",
       "    .dataframe tbody tr th {\n",
       "        vertical-align: top;\n",
       "    }\n",
       "\n",
       "    .dataframe thead th {\n",
       "        text-align: right;\n",
       "    }\n",
       "</style>\n",
       "<table border=\"1\" class=\"dataframe\">\n",
       "  <thead>\n",
       "    <tr style=\"text-align: right;\">\n",
       "      <th></th>\n",
       "      <th>Mars - Earth Comparison</th>\n",
       "      <th>Mars</th>\n",
       "    </tr>\n",
       "  </thead>\n",
       "  <tbody>\n",
       "    <tr>\n",
       "      <th>0</th>\n",
       "      <td>Diameter:</td>\n",
       "      <td>6,779 km</td>\n",
       "    </tr>\n",
       "    <tr>\n",
       "      <th>1</th>\n",
       "      <td>Mass:</td>\n",
       "      <td>6.39 × 10^23 kg</td>\n",
       "    </tr>\n",
       "    <tr>\n",
       "      <th>2</th>\n",
       "      <td>Moons:</td>\n",
       "      <td>2</td>\n",
       "    </tr>\n",
       "    <tr>\n",
       "      <th>3</th>\n",
       "      <td>Distance from Sun:</td>\n",
       "      <td>227,943,824 km</td>\n",
       "    </tr>\n",
       "    <tr>\n",
       "      <th>4</th>\n",
       "      <td>Length of Year:</td>\n",
       "      <td>687 Earth days</td>\n",
       "    </tr>\n",
       "    <tr>\n",
       "      <th>5</th>\n",
       "      <td>Temperature:</td>\n",
       "      <td>-153 to 20 °C</td>\n",
       "    </tr>\n",
       "  </tbody>\n",
       "</table>\n",
       "</div>"
      ],
      "text/plain": [
       "  Mars - Earth Comparison             Mars\n",
       "0               Diameter:         6,779 km\n",
       "1                   Mass:  6.39 × 10^23 kg\n",
       "2                  Moons:                2\n",
       "3      Distance from Sun:   227,943,824 km\n",
       "4         Length of Year:   687 Earth days\n",
       "5            Temperature:    -153 to 20 °C"
      ]
     },
     "execution_count": 21,
     "metadata": {},
     "output_type": "execute_result"
    }
   ],
   "source": [
    "#drop the earth column\n",
    "marsfacts2=mars_facts2[[\"Mars - Earth Comparison\", \"Mars\"]]\n",
    "marsfacts2 #test succesfull column drop"
   ]
  },
  {
   "cell_type": "code",
   "execution_count": 22,
   "metadata": {},
   "outputs": [
    {
     "data": {
      "text/html": [
       "<div>\n",
       "<style scoped>\n",
       "    .dataframe tbody tr th:only-of-type {\n",
       "        vertical-align: middle;\n",
       "    }\n",
       "\n",
       "    .dataframe tbody tr th {\n",
       "        vertical-align: top;\n",
       "    }\n",
       "\n",
       "    .dataframe thead th {\n",
       "        text-align: right;\n",
       "    }\n",
       "</style>\n",
       "<table border=\"1\" class=\"dataframe\">\n",
       "  <thead>\n",
       "    <tr style=\"text-align: right;\">\n",
       "      <th></th>\n",
       "      <th>Mars Description</th>\n",
       "      <th>Mars Value</th>\n",
       "    </tr>\n",
       "  </thead>\n",
       "  <tbody>\n",
       "    <tr>\n",
       "      <th>0</th>\n",
       "      <td>Diameter:</td>\n",
       "      <td>6,779 km</td>\n",
       "    </tr>\n",
       "    <tr>\n",
       "      <th>1</th>\n",
       "      <td>Mass:</td>\n",
       "      <td>6.39 × 10^23 kg</td>\n",
       "    </tr>\n",
       "    <tr>\n",
       "      <th>2</th>\n",
       "      <td>Moons:</td>\n",
       "      <td>2</td>\n",
       "    </tr>\n",
       "    <tr>\n",
       "      <th>3</th>\n",
       "      <td>Distance from Sun:</td>\n",
       "      <td>227,943,824 km</td>\n",
       "    </tr>\n",
       "    <tr>\n",
       "      <th>4</th>\n",
       "      <td>Length of Year:</td>\n",
       "      <td>687 Earth days</td>\n",
       "    </tr>\n",
       "    <tr>\n",
       "      <th>5</th>\n",
       "      <td>Temperature:</td>\n",
       "      <td>-153 to 20 °C</td>\n",
       "    </tr>\n",
       "  </tbody>\n",
       "</table>\n",
       "</div>"
      ],
      "text/plain": [
       "     Mars Description       Mars Value\n",
       "0           Diameter:         6,779 km\n",
       "1               Mass:  6.39 × 10^23 kg\n",
       "2              Moons:                2\n",
       "3  Distance from Sun:   227,943,824 km\n",
       "4     Length of Year:   687 Earth days\n",
       "5        Temperature:    -153 to 20 °C"
      ]
     },
     "execution_count": 22,
     "metadata": {},
     "output_type": "execute_result"
    }
   ],
   "source": [
    "#Rename columns\n",
    "mars_facts2=marsfacts2.rename(columns={'Mars - Earth Comparison': 'Mars Description', 'Mars': 'Mars Value'})\n",
    "mars_facts2 # test succesfull columns rename"
   ]
  },
  {
   "cell_type": "markdown",
   "metadata": {},
   "source": [
    "B)Use Pandas to convert the data to a HTML table string."
   ]
  },
  {
   "cell_type": "code",
   "execution_count": 23,
   "metadata": {},
   "outputs": [
    {
     "data": {
      "text/plain": [
       "'<table border=\"1\" class=\"dataframe\">\\n  <thead>\\n    <tr style=\"text-align: right;\">\\n      <th></th>\\n      <th>0</th>\\n      <th>1</th>\\n    </tr>\\n  </thead>\\n  <tbody>\\n    <tr>\\n      <th>0</th>\\n      <td>Equatorial Diameter:</td>\\n      <td>6,792 km</td>\\n    </tr>\\n    <tr>\\n      <th>1</th>\\n      <td>Polar Diameter:</td>\\n      <td>6,752 km</td>\\n    </tr>\\n    <tr>\\n      <th>2</th>\\n      <td>Mass:</td>\\n      <td>6.39 × 10^23 kg (0.11 Earths)</td>\\n    </tr>\\n    <tr>\\n      <th>3</th>\\n      <td>Moons:</td>\\n      <td>2 (Phobos &amp; Deimos)</td>\\n    </tr>\\n    <tr>\\n      <th>4</th>\\n      <td>Orbit Distance:</td>\\n      <td>227,943,824 km (1.38 AU)</td>\\n    </tr>\\n    <tr>\\n      <th>5</th>\\n      <td>Orbit Period:</td>\\n      <td>687 days (1.9 years)</td>\\n    </tr>\\n    <tr>\\n      <th>6</th>\\n      <td>Surface Temperature:</td>\\n      <td>-87 to -5 °C</td>\\n    </tr>\\n    <tr>\\n      <th>7</th>\\n      <td>First Record:</td>\\n      <td>2nd millennium BC</td>\\n    </tr>\\n    <tr>\\n      <th>8</th>\\n      <td>Recorded By:</td>\\n      <td>Egyptian astronomers</td>\\n    </tr>\\n  </tbody>\\n</table>'"
      ]
     },
     "execution_count": 23,
     "metadata": {},
     "output_type": "execute_result"
    }
   ],
   "source": [
    "#transform dataframe into html dataframe\n",
    "marsft1_html = mars_facts1.to_html()\n",
    "marsft1_html # test succesfull html data generated"
   ]
  },
  {
   "cell_type": "code",
   "execution_count": 24,
   "metadata": {},
   "outputs": [],
   "source": [
    "#Create html file\n",
    "mars_facts1.to_html('marstable1.html') #test succesful html created"
   ]
  },
  {
   "cell_type": "code",
   "execution_count": 25,
   "metadata": {},
   "outputs": [
    {
     "data": {
      "text/plain": [
       "'<table border=\"1\" class=\"dataframe\">\\n  <thead>\\n    <tr style=\"text-align: right;\">\\n      <th></th>\\n      <th>Mars Description</th>\\n      <th>Mars Value</th>\\n    </tr>\\n  </thead>\\n  <tbody>\\n    <tr>\\n      <th>0</th>\\n      <td>Diameter:</td>\\n      <td>6,779 km</td>\\n    </tr>\\n    <tr>\\n      <th>1</th>\\n      <td>Mass:</td>\\n      <td>6.39 × 10^23 kg</td>\\n    </tr>\\n    <tr>\\n      <th>2</th>\\n      <td>Moons:</td>\\n      <td>2</td>\\n    </tr>\\n    <tr>\\n      <th>3</th>\\n      <td>Distance from Sun:</td>\\n      <td>227,943,824 km</td>\\n    </tr>\\n    <tr>\\n      <th>4</th>\\n      <td>Length of Year:</td>\\n      <td>687 Earth days</td>\\n    </tr>\\n    <tr>\\n      <th>5</th>\\n      <td>Temperature:</td>\\n      <td>-153 to 20 °C</td>\\n    </tr>\\n  </tbody>\\n</table>'"
      ]
     },
     "execution_count": 25,
     "metadata": {},
     "output_type": "execute_result"
    }
   ],
   "source": [
    "#transform dataframe into html \n",
    "marsft2_html = mars_facts2.to_html()\n",
    "marsft2_html #test succesfull html data generated"
   ]
  },
  {
   "cell_type": "code",
   "execution_count": 26,
   "metadata": {},
   "outputs": [],
   "source": [
    "#Create html File\n",
    "mars_facts2.to_html('marstable2.html') #test succesfull html with table created"
   ]
  },
  {
   "cell_type": "markdown",
   "metadata": {},
   "source": [
    "5)Mars Hemispheres"
   ]
  },
  {
   "cell_type": "markdown",
   "metadata": {},
   "source": [
    "A)Visit the USGS Astrogeology site to obtain high resolution images for each of Mar's hemispheres, you will need to click each of the links to the hemispheres in order to find the image url to the full resolution image."
   ]
  },
  {
   "cell_type": "code",
   "execution_count": 27,
   "metadata": {},
   "outputs": [],
   "source": [
    "# Establish link with url: Usg Astrology\n",
    "usgastraimg=\"https://astrogeology.usgs.gov/search/results?q=hemisphere+enhanced&k1=target&v1=Mars\"\n",
    "short_usgas=\"https://astrogeology.usgs.gov\"\n",
    "browser.visit(usgastraimg) # test succesfull link stablish"
   ]
  },
  {
   "cell_type": "code",
   "execution_count": 28,
   "metadata": {},
   "outputs": [],
   "source": [
    "# Link the browser to a html and Parse with Beautiful Soup\n",
    "html = browser.html\n",
    "linksoup = bs(html , 'html.parser') #test succesfull html parse"
   ]
  },
  {
   "cell_type": "markdown",
   "metadata": {},
   "source": [
    "B)You will need to click each of the links to the hemispheres in order to find the image url to the full resolution image.\n",
    "Save both the image url string for the full resolution hemisphere image, and the Hemisphere title containing the hemisphere name. Use a Python dictionary to store the data using the keys img_url and title, append the dictionary with the image url string and the hemisphere title to a list. This list will contain one dictionary for each hemispher\n",
    "\n",
    "\n"
   ]
  },
  {
   "cell_type": "code",
   "execution_count": 29,
   "metadata": {},
   "outputs": [
    {
     "name": "stdout",
     "output_type": "stream",
     "text": [
      "https://astropedia.astrogeology.usgs.gov/download/Mars/Viking/cerberus_enhanced.tif/full.jpg\n",
      "https://astropedia.astrogeology.usgs.gov/download/Mars/Viking/schiaparelli_enhanced.tif/full.jpg\n",
      "https://astropedia.astrogeology.usgs.gov/download/Mars/Viking/syrtis_major_enhanced.tif/full.jpg\n",
      "https://astropedia.astrogeology.usgs.gov/download/Mars/Viking/valles_marineris_enhanced.tif/full.jpg\n"
     ]
    }
   ],
   "source": [
    "#Using the function find all from Beautiful soup scrap the main link\n",
    "main_link = linksoup.find_all('div', class_='item')\n",
    "#Create a dictionary for the hemispehere images and loop the website so they can scrap the image inside the dicitonary\n",
    "hemisphere_img_links=[]\n",
    "for link in main_link:\n",
    "    title = link.find('h3').text\n",
    "    astrolink = link.find('a')['href']\n",
    "    hem_img_link= short_usgas+astrolink\n",
    "    browser.visit(hem_img_link)\n",
    "    html = browser.html\n",
    "    hemisoup = bs(html, 'html.parser')\n",
    "    hemisphere_original= hemisoup.find('div',class_='downloads')\n",
    "    hemisphere_img_link=hemisphere_original.find('a')['href']\n",
    "    print(hemisphere_img_link)\n",
    "    astro_image=dict({'title':title, 'img_url':hemisphere_img_link})\n",
    "    hemisphere_img_links.append(astro_image) #test succesfull website scrap"
   ]
  },
  {
   "cell_type": "code",
   "execution_count": 30,
   "metadata": {},
   "outputs": [
    {
     "data": {
      "text/plain": [
       "[{'title': 'Cerberus Hemisphere Enhanced',\n",
       "  'img_url': 'https://astropedia.astrogeology.usgs.gov/download/Mars/Viking/cerberus_enhanced.tif/full.jpg'},\n",
       " {'title': 'Schiaparelli Hemisphere Enhanced',\n",
       "  'img_url': 'https://astropedia.astrogeology.usgs.gov/download/Mars/Viking/schiaparelli_enhanced.tif/full.jpg'},\n",
       " {'title': 'Syrtis Major Hemisphere Enhanced',\n",
       "  'img_url': 'https://astropedia.astrogeology.usgs.gov/download/Mars/Viking/syrtis_major_enhanced.tif/full.jpg'},\n",
       " {'title': 'Valles Marineris Hemisphere Enhanced',\n",
       "  'img_url': 'https://astropedia.astrogeology.usgs.gov/download/Mars/Viking/valles_marineris_enhanced.tif/full.jpg'}]"
      ]
     },
     "execution_count": 30,
     "metadata": {},
     "output_type": "execute_result"
    }
   ],
   "source": [
    "#Display the links inside the dictionary\n",
    "hemisphere_img_links #test succesfull list display per title and img"
   ]
  },
  {
   "cell_type": "code",
   "execution_count": null,
   "metadata": {},
   "outputs": [],
   "source": []
  }
 ],
 "metadata": {
  "kernelspec": {
   "display_name": "Python 3",
   "language": "python",
   "name": "python3"
  },
  "language_info": {
   "codemirror_mode": {
    "name": "ipython",
    "version": 3
   },
   "file_extension": ".py",
   "mimetype": "text/x-python",
   "name": "python",
   "nbconvert_exporter": "python",
   "pygments_lexer": "ipython3",
   "version": "3.7.6"
  }
 },
 "nbformat": 4,
 "nbformat_minor": 4
}
